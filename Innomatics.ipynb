{
 "cells": [
  {
   "cell_type": "code",
   "execution_count": 2,
   "id": "512fd186-3c53-454e-85bb-e45092333907",
   "metadata": {},
   "outputs": [
    {
     "data": {
      "text/html": [
       "<div>\n",
       "<style scoped>\n",
       "    .dataframe tbody tr th:only-of-type {\n",
       "        vertical-align: middle;\n",
       "    }\n",
       "\n",
       "    .dataframe tbody tr th {\n",
       "        vertical-align: top;\n",
       "    }\n",
       "\n",
       "    .dataframe thead th {\n",
       "        text-align: right;\n",
       "    }\n",
       "</style>\n",
       "<table border=\"1\" class=\"dataframe\">\n",
       "  <thead>\n",
       "    <tr style=\"text-align: right;\">\n",
       "      <th></th>\n",
       "      <th>movieId</th>\n",
       "      <th>title</th>\n",
       "      <th>genres</th>\n",
       "    </tr>\n",
       "  </thead>\n",
       "  <tbody>\n",
       "    <tr>\n",
       "      <th>0</th>\n",
       "      <td>1</td>\n",
       "      <td>Toy Story (1995)</td>\n",
       "      <td>Adventure|Animation|Children|Comedy|Fantasy</td>\n",
       "    </tr>\n",
       "    <tr>\n",
       "      <th>1</th>\n",
       "      <td>2</td>\n",
       "      <td>Jumanji (1995)</td>\n",
       "      <td>Adventure|Children|Fantasy</td>\n",
       "    </tr>\n",
       "    <tr>\n",
       "      <th>2</th>\n",
       "      <td>3</td>\n",
       "      <td>Grumpier Old Men (1995)</td>\n",
       "      <td>Comedy|Romance</td>\n",
       "    </tr>\n",
       "    <tr>\n",
       "      <th>3</th>\n",
       "      <td>4</td>\n",
       "      <td>Waiting to Exhale (1995)</td>\n",
       "      <td>Comedy|Drama|Romance</td>\n",
       "    </tr>\n",
       "    <tr>\n",
       "      <th>4</th>\n",
       "      <td>5</td>\n",
       "      <td>Father of the Bride Part II (1995)</td>\n",
       "      <td>Comedy</td>\n",
       "    </tr>\n",
       "  </tbody>\n",
       "</table>\n",
       "</div>"
      ],
      "text/plain": [
       "   movieId                               title  \\\n",
       "0        1                    Toy Story (1995)   \n",
       "1        2                      Jumanji (1995)   \n",
       "2        3             Grumpier Old Men (1995)   \n",
       "3        4            Waiting to Exhale (1995)   \n",
       "4        5  Father of the Bride Part II (1995)   \n",
       "\n",
       "                                        genres  \n",
       "0  Adventure|Animation|Children|Comedy|Fantasy  \n",
       "1                   Adventure|Children|Fantasy  \n",
       "2                               Comedy|Romance  \n",
       "3                         Comedy|Drama|Romance  \n",
       "4                                       Comedy  "
      ]
     },
     "execution_count": 2,
     "metadata": {},
     "output_type": "execute_result"
    }
   ],
   "source": [
    "import pandas as pd\n",
    "movies=pd.read_csv(r\"C:\\Users\\udayk\\Downloads\\movie_data\\movies.csv\")\n",
    "movies.head()"
   ]
  },
  {
   "cell_type": "code",
   "execution_count": 3,
   "id": "f64dae4f-0de9-441f-a89d-c64d73fad1d3",
   "metadata": {},
   "outputs": [
    {
     "data": {
      "text/plain": [
       "(9742, 3)"
      ]
     },
     "execution_count": 3,
     "metadata": {},
     "output_type": "execute_result"
    }
   ],
   "source": [
    "movies.shape"
   ]
  },
  {
   "cell_type": "code",
   "execution_count": 5,
   "id": "8695304e-3f81-4a1e-a51e-60b77f575f26",
   "metadata": {},
   "outputs": [
    {
     "data": {
      "text/plain": [
       "(100836, 4)"
      ]
     },
     "execution_count": 5,
     "metadata": {},
     "output_type": "execute_result"
    }
   ],
   "source": [
    "ratings=pd.read_csv(r\"C:\\Users\\udayk\\Downloads\\movie_data\\ratings.csv\")\n",
    "ratings.shape"
   ]
  },
  {
   "cell_type": "code",
   "execution_count": 8,
   "id": "1f52e83e-c2e0-4a22-b244-6545ec640535",
   "metadata": {},
   "outputs": [
    {
     "data": {
      "text/html": [
       "<div>\n",
       "<style scoped>\n",
       "    .dataframe tbody tr th:only-of-type {\n",
       "        vertical-align: middle;\n",
       "    }\n",
       "\n",
       "    .dataframe tbody tr th {\n",
       "        vertical-align: top;\n",
       "    }\n",
       "\n",
       "    .dataframe thead th {\n",
       "        text-align: right;\n",
       "    }\n",
       "</style>\n",
       "<table border=\"1\" class=\"dataframe\">\n",
       "  <thead>\n",
       "    <tr style=\"text-align: right;\">\n",
       "      <th></th>\n",
       "      <th>userId</th>\n",
       "      <th>movieId</th>\n",
       "      <th>rating</th>\n",
       "      <th>timestamp</th>\n",
       "    </tr>\n",
       "  </thead>\n",
       "  <tbody>\n",
       "    <tr>\n",
       "      <th>0</th>\n",
       "      <td>1</td>\n",
       "      <td>1</td>\n",
       "      <td>4.0</td>\n",
       "      <td>964982703</td>\n",
       "    </tr>\n",
       "    <tr>\n",
       "      <th>1</th>\n",
       "      <td>1</td>\n",
       "      <td>3</td>\n",
       "      <td>4.0</td>\n",
       "      <td>964981247</td>\n",
       "    </tr>\n",
       "    <tr>\n",
       "      <th>2</th>\n",
       "      <td>1</td>\n",
       "      <td>6</td>\n",
       "      <td>4.0</td>\n",
       "      <td>964982224</td>\n",
       "    </tr>\n",
       "    <tr>\n",
       "      <th>3</th>\n",
       "      <td>1</td>\n",
       "      <td>47</td>\n",
       "      <td>5.0</td>\n",
       "      <td>964983815</td>\n",
       "    </tr>\n",
       "    <tr>\n",
       "      <th>4</th>\n",
       "      <td>1</td>\n",
       "      <td>50</td>\n",
       "      <td>5.0</td>\n",
       "      <td>964982931</td>\n",
       "    </tr>\n",
       "  </tbody>\n",
       "</table>\n",
       "</div>"
      ],
      "text/plain": [
       "   userId  movieId  rating  timestamp\n",
       "0       1        1     4.0  964982703\n",
       "1       1        3     4.0  964981247\n",
       "2       1        6     4.0  964982224\n",
       "3       1       47     5.0  964983815\n",
       "4       1       50     5.0  964982931"
      ]
     },
     "execution_count": 8,
     "metadata": {},
     "output_type": "execute_result"
    }
   ],
   "source": [
    "ratings.head()"
   ]
  },
  {
   "cell_type": "code",
   "execution_count": 15,
   "id": "8e655136-32fe-4934-8e78-cf3b1e9ce8a7",
   "metadata": {},
   "outputs": [
    {
     "name": "stdout",
     "output_type": "stream",
     "text": [
      "unique_id:610\n"
     ]
    }
   ],
   "source": [
    "unique_user_ids = ratings['userId'].nunique()\n",
    "print(f'unique_id:{unique_user_ids}')"
   ]
  },
  {
   "cell_type": "code",
   "execution_count": 59,
   "id": "07631785-6e55-46c0-808d-7ad065fb13c7",
   "metadata": {},
   "outputs": [
    {
     "name": "stdout",
     "output_type": "stream",
     "text": [
      "Movie with the maximum number of user ratings:\n",
      "     movieId                title                    genres\n",
      "314      356  Forrest Gump (1994)  Comedy|Drama|Romance|War\n"
     ]
    }
   ],
   "source": [
    "import pandas as pd\n",
    "df = pd.read_csv(r\"C:\\Users\\udayk\\Downloads\\movie_data\\ratings.csv\")\n",
    "ratings_count = df.groupby('movieId').size().reset_index(name='ratings_count')\n",
    "max_ratings_index = ratings_count['ratings_count'].idxmax()\n",
    "max_ratings_movie_id = ratings_count.loc[max_ratings_index, 'movieId']\n",
    "movies_df = pd.read_csv(r\"C:\\Users\\udayk\\Downloads\\movie_data\\movies.csv\")\n",
    "max_ratings_movie_info = movies_df[movies_df['movieId'] == max_ratings_movie_id]\n",
    "print(\"Movie with the maximum number of user ratings:\")\n",
    "print(max_ratings_movie_info)\n"
   ]
  },
  {
   "cell_type": "code",
   "execution_count": 58,
   "id": "50c1b1fb-0e81-4d07-8923-de519322021e",
   "metadata": {},
   "outputs": [
    {
     "name": "stdout",
     "output_type": "stream",
     "text": [
      "Tags for 'Matrix, The (1999)':\n",
      "815           martial arts\n",
      "816                 sci-fi\n",
      "1646    alternate universe\n",
      "2794            philosophy\n",
      "2795      post apocalyptic\n",
      "Name: tag, dtype: object\n"
     ]
    }
   ],
   "source": [
    "import pandas as pd\n",
    "tags_df = pd.read_csv(r\"C:\\Users\\udayk\\Downloads\\movie_data\\tags.csv\")\n",
    "matrix_movie_id = 2571  # Replace with the actual movieId\n",
    "matrix_tags = tags_df[tags_df['movieId'] == matrix_movie_id]\n",
    "print(\"Tags for 'Matrix, The (1999)':\")\n",
    "print(matrix_tags['tag'])\n"
   ]
  },
  {
   "cell_type": "code",
   "execution_count": 57,
   "id": "32f957a3-dfbb-4274-8f58-948faf0b6871",
   "metadata": {},
   "outputs": [
    {
     "name": "stdout",
     "output_type": "stream",
     "text": [
      "Average user rating for 'Terminator 2: Judgment Day (1991)': 3.75\n"
     ]
    }
   ],
   "source": [
    "import pandas as pd\n",
    "ratings_df = pd.read_csv(r\"C:\\Users\\udayk\\Downloads\\movie_data\\ratings.csv\")\n",
    "terminator_movie_id = 480\n",
    "terminator_ratings = ratings_df[ratings_df['movieId'] == terminator_movie_id]\n",
    "average_rating = terminator_ratings['rating'].mean()\n",
    "print(f\"Average user rating for 'Terminator 2: Judgment Day (1991)': {average_rating:.2f}\")\n"
   ]
  },
  {
   "cell_type": "code",
   "execution_count": 56,
   "id": "1218ef1b-427f-4e85-9db9-7042998b6b60",
   "metadata": {},
   "outputs": [
    {
     "data": {
      "image/png": "[encoded data removed]",
      "text/plain": [
       "<Figure size 640x480 with 1 Axes>"
      ]
     },
     "metadata": {},
     "output_type": "display_data"
    }
   ],
   "source": [
    "import pandas as pd\n",
    "import matplotlib.pyplot as plt\n",
    "ratings_df = pd.read_csv(r\"C:\\Users\\udayk\\Downloads\\movie_data\\ratings.csv\")\n",
    "fight_club_movie_id = 2959  # Replace with the actual movieId\n",
    "fight_club_ratings = ratings_df[ratings_df['movieId'] == fight_club_movie_id]\n",
    "\n",
    "# Plot a histogram of user ratings\n",
    "plt.hist(fight_club_ratings['rating'], bins=5, edgecolor='black')\n",
    "plt.title('User Ratings for \"Fight Club (1999)\"')\n",
    "plt.xlabel('Rating')\n",
    "plt.ylabel('Number of Users')\n",
    "plt.show()\n"
   ]
  },
  {
   "cell_type": "code",
   "execution_count": 55,
   "id": "9f420942-b717-459e-b03b-88743ec57f15",
   "metadata": {},
   "outputs": [
    {
     "name": "stdout",
     "output_type": "stream",
     "text": [
      "   movieId                    title  \\\n",
      "0        1         Toy Story (1995)   \n",
      "1        2           Jumanji (1995)   \n",
      "2        3  Grumpier Old Men (1995)   \n",
      "5        6              Heat (1995)   \n",
      "6        7           Sabrina (1995)   \n",
      "\n",
      "                                        genres  count      mean  \n",
      "0  Adventure|Animation|Children|Comedy|Fantasy    215  3.920930  \n",
      "1                   Adventure|Children|Fantasy    110  3.431818  \n",
      "2                               Comedy|Romance     52  3.259615  \n",
      "5                        Action|Crime|Thriller    102  3.946078  \n",
      "6                               Comedy|Romance     54  3.185185  \n"
     ]
    }
   ],
   "source": [
    "import pandas as pd\n",
    "ratings_df = pd.read_csv(r\"C:\\Users\\udayk\\Downloads\\movie_data\\ratings.csv\")\n",
    "movies_df = pd.read_csv(r\"C:\\Users\\udayk\\Downloads\\movie_data\\movies.csv\")\n",
    "grouped_ratings = ratings_df.groupby('movieId')['rating'].agg(['count', 'mean']).reset_index()\n",
    "merged_data = pd.merge(movies_df, grouped_ratings, on='movieId', how='inner')\n",
    "filtered_data = merged_data[merged_data['count'] > 50]\n",
    "print(filtered_data.head())\n"
   ]
  },
  {
   "cell_type": "code",
   "execution_count": 54,
   "id": "14f0bab8-c6ea-45f3-b613-32dec89f4ce4",
   "metadata": {},
   "outputs": [
    {
     "name": "stdout",
     "output_type": "stream",
     "text": [
      "Most Popular Movie based on Average User Ratings:\n",
      "title    Shawshank Redemption, The (1994)\n",
      "mean                             4.429022\n",
      "Name: 277, dtype: object\n"
     ]
    }
   ],
   "source": [
    "# Find the movie with the highest average user rating\n",
    "most_popular_movie = filtered_data.loc[filtered_data['mean'].idxmax()]\n",
    "print(\"Most Popular Movie based on Average User Ratings:\")\n",
    "print(most_popular_movie[['title', 'mean']])\n"
   ]
  },
  {
   "cell_type": "code",
   "execution_count": 53,
   "id": "d5e946fb-41e0-4385-aeb2-731b035d21bd",
   "metadata": {},
   "outputs": [
    {
     "name": "stdout",
     "output_type": "stream",
     "text": [
      "Top 5 Popular Movies based on Number of User Ratings:\n",
      "                                 title  count\n",
      "314                Forrest Gump (1994)    329\n",
      "277   Shawshank Redemption, The (1994)    317\n",
      "257                Pulp Fiction (1994)    307\n",
      "510   Silence of the Lambs, The (1991)    279\n",
      "1938                Matrix, The (1999)    278\n"
     ]
    }
   ],
   "source": [
    "top_popular_movies = filtered_data.sort_values(by='count', ascending=False)\n",
    "# Select the top 5 popular movies\n",
    "top_5_popular_movies = top_popular_movies.head(5)\n",
    "print(\"Top 5 Popular Movies based on Number of User Ratings:\")\n",
    "print(top_5_popular_movies[['title', 'count']])\n"
   ]
  },
  {
   "cell_type": "code",
   "execution_count": 32,
   "id": "893b7b96-00e8-4ed6-9b22-d54f5390c195",
   "metadata": {},
   "outputs": [
    {
     "name": "stdout",
     "output_type": "stream",
     "text": [
      "Third Most Popular Sci-Fi Movie based on Number of User Ratings:\n",
      "title    Jurassic Park (1993)\n",
      "count                     238\n",
      "Name: 418, dtype: object\n"
     ]
    }
   ],
   "source": [
    "# Assuming 'filtered_data' is the DataFrame obtained after the mandatory operations\n",
    "# Filter only Sci-Fi movies\n",
    "sci_fi_movies = filtered_data[filtered_data['genres'].str.contains('Sci-Fi', case=False)]\n",
    "top_sci_fi_movies = sci_fi_movies.sort_values(by='count', ascending=False)\n",
    "third_most_popular_sci_fi_movie = top_sci_fi_movies.iloc[2]\n",
    "print(\"Third Most Popular Sci-Fi Movie based on Number of User Ratings:\")\n",
    "print(third_most_popular_sci_fi_movie[['title', 'count']])\n"
   ]
  },
  {
   "cell_type": "code",
   "execution_count": 36,
   "id": "822b7baa-08c1-462e-9241-7e567f16c1bc",
   "metadata": {},
   "outputs": [
    {
     "name": "stdout",
     "output_type": "stream",
     "text": [
      "   movieId  imdbId   tmdbId\n",
      "0        1  114709    862.0\n",
      "1        2  113497   8844.0\n",
      "2        3  113228  15602.0\n",
      "3        4  114885  31357.0\n",
      "4        5  113041  11862.0\n"
     ]
    }
   ],
   "source": [
    "import pandas as pd\n",
    "links_df = pd.read_csv(r\"C:\\Users\\udayk\\Downloads\\movie_data\\links.csv\")\n",
    "print(links_df.head())\n"
   ]
  },
  {
   "cell_type": "code",
   "execution_count": 52,
   "id": "ee8decb8-682d-4d28-ac00-14f1b57ff62a",
   "metadata": {},
   "outputs": [
    {
     "name": "stdout",
     "output_type": "stream",
     "text": [
      "MovieId with the Highest IMDb Rating: 1\n"
     ]
    }
   ],
   "source": [
    "import pandas as pd\n",
    "links_df = pd.read_csv(r\"C:\\Users\\udayk\\Downloads\\movie_data\\links.csv\")\n",
    "ratings_df = pd.read_csv(r\"C:\\Users\\udayk\\Downloads\\movie_data\\ratings.csv\")\n",
    "merged_data = pd.merge(links_df, ratings_df, on='movieId', how='inner')\n",
    "highest_imdb_movie_id = merged_data.loc[merged_data['rating'].idxmax(), 'movieId']\n",
    "print(\"MovieId with the Highest IMDb Rating:\", highest_imdb_movie_id)\n"
   ]
  },
  {
   "cell_type": "code",
   "execution_count": 51,
   "id": "85ebe562-974c-437e-b024-81fd7fa7deec",
   "metadata": {},
   "outputs": [
    {
     "name": "stdout",
     "output_type": "stream",
     "text": [
      "MovieId of the Sci-Fi Movie with the Highest IMDb Rating: 24\n"
     ]
    }
   ],
   "source": [
    "import pandas as pd\n",
    "movies_df = pd.read_csv(r\"C:\\Users\\udayk\\Downloads\\movie_data\\movies.csv\")\n",
    "ratings_df = pd.read_csv(r\"C:\\Users\\udayk\\Downloads\\movie_data\\ratings.csv\")\n",
    "merged_data = pd.merge(movies_df, ratings_df, on='movieId', how='inner')\n",
    "sci_fi_movies = merged_data[merged_data['genres'].str.contains('Sci-Fi', case=False)]\n",
    "highest_imdb_sci_fi_movie_id = sci_fi_movies.loc[sci_fi_movies['rating'].idxmax(), 'movieId']\n",
    "\n",
    "print(\"MovieId of the Sci-Fi Movie with the Highest IMDb Rating:\", highest_imdb_sci_fi_movie_id)\n"
   ]
  },
  {
   "cell_type": "code",
   "execution_count": null,
   "id": "ba19dd71-5836-499c-81d6-86b8fc90f6cb",
   "metadata": {},
   "outputs": [],
   "source": []
  }
 ],
 "metadata": {
  "kernelspec": {
   "display_name": "Python 3 (ipykernel)",
   "language": "python",
   "name": "python3"
  },
  "language_info": {
   "codemirror_mode": {
    "name": "ipython",
    "version": 3
   },
   "file_extension": ".py",
   "mimetype": "text/x-python",
   "name": "python",
   "nbconvert_exporter": "python",
   "pygments_lexer": "ipython3",
   "version": "3.12.0"
  }
 },
 "nbformat": 4,
 "nbformat_minor": 5
}
